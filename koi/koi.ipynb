{
 "cells": [
  {
   "cell_type": "code",
   "execution_count": 216,
   "id": "initial_id",
   "metadata": {
    "collapsed": true,
    "ExecuteTime": {
     "end_time": "2024-07-01T15:11:15.301449Z",
     "start_time": "2024-07-01T15:11:15.297839Z"
    }
   },
   "outputs": [],
   "source": [
    "import numpy as np\n",
    "import pandas as pd\n",
    "from sklearn.linear_model import LogisticRegression\n",
    "from sklearn.model_selection import train_test_split\n",
    "from sklearn.metrics import accuracy_score, recall_score, precision_score\n",
    "import matplotlib.pyplot as plt"
   ]
  },
  {
   "cell_type": "code",
   "outputs": [
    {
     "data": {
      "text/plain": "  Jenis Ikan  Ukuran  Gender             Umur  Jumlah Corak  \\\n0     Goromo      11  Female  Dibawah 1 tahun             2   \n1     Goromo      11  Female  Dibawah 1 tahun             2   \n2     Goromo      12  Female  Dibawah 1 tahun             2   \n3     Goromo      12  Female  Dibawah 1 tahun             2   \n4     Goromo      13  Female  Dibawah 1 tahun             2   \n\n           Corak Dominan Spesifikasi  Harga   Tempat  \n0  Putih dan Hitam/Merah       Local   8000    Kelir  \n1  Putih dan Hitam/Merah      Import  16000  Bulusan  \n2  Putih dan Hitam/Merah       Local  10000    Kelir  \n3  Putih dan Hitam/Merah      Import  17000  Bulusan  \n4  Putih dan Hitam/Merah       Local  12000    Kelir  ",
      "text/html": "<div>\n<style scoped>\n    .dataframe tbody tr th:only-of-type {\n        vertical-align: middle;\n    }\n\n    .dataframe tbody tr th {\n        vertical-align: top;\n    }\n\n    .dataframe thead th {\n        text-align: right;\n    }\n</style>\n<table border=\"1\" class=\"dataframe\">\n  <thead>\n    <tr style=\"text-align: right;\">\n      <th></th>\n      <th>Jenis Ikan</th>\n      <th>Ukuran</th>\n      <th>Gender</th>\n      <th>Umur</th>\n      <th>Jumlah Corak</th>\n      <th>Corak Dominan</th>\n      <th>Spesifikasi</th>\n      <th>Harga</th>\n      <th>Tempat</th>\n    </tr>\n  </thead>\n  <tbody>\n    <tr>\n      <th>0</th>\n      <td>Goromo</td>\n      <td>11</td>\n      <td>Female</td>\n      <td>Dibawah 1 tahun</td>\n      <td>2</td>\n      <td>Putih dan Hitam/Merah</td>\n      <td>Local</td>\n      <td>8000</td>\n      <td>Kelir</td>\n    </tr>\n    <tr>\n      <th>1</th>\n      <td>Goromo</td>\n      <td>11</td>\n      <td>Female</td>\n      <td>Dibawah 1 tahun</td>\n      <td>2</td>\n      <td>Putih dan Hitam/Merah</td>\n      <td>Import</td>\n      <td>16000</td>\n      <td>Bulusan</td>\n    </tr>\n    <tr>\n      <th>2</th>\n      <td>Goromo</td>\n      <td>12</td>\n      <td>Female</td>\n      <td>Dibawah 1 tahun</td>\n      <td>2</td>\n      <td>Putih dan Hitam/Merah</td>\n      <td>Local</td>\n      <td>10000</td>\n      <td>Kelir</td>\n    </tr>\n    <tr>\n      <th>3</th>\n      <td>Goromo</td>\n      <td>12</td>\n      <td>Female</td>\n      <td>Dibawah 1 tahun</td>\n      <td>2</td>\n      <td>Putih dan Hitam/Merah</td>\n      <td>Import</td>\n      <td>17000</td>\n      <td>Bulusan</td>\n    </tr>\n    <tr>\n      <th>4</th>\n      <td>Goromo</td>\n      <td>13</td>\n      <td>Female</td>\n      <td>Dibawah 1 tahun</td>\n      <td>2</td>\n      <td>Putih dan Hitam/Merah</td>\n      <td>Local</td>\n      <td>12000</td>\n      <td>Kelir</td>\n    </tr>\n  </tbody>\n</table>\n</div>"
     },
     "execution_count": 83,
     "metadata": {},
     "output_type": "execute_result"
    }
   ],
   "source": [
    "df = pd.read_csv(\"./KOI2.csv\", sep=\";\")\n",
    "df[\"Harga\"] = df.loc[:, \"Harga\"].apply(lambda h: int(h.replace(\".\", \"\")))\n",
    "df.head()"
   ],
   "metadata": {
    "collapsed": false,
    "ExecuteTime": {
     "end_time": "2024-07-01T14:32:45.805956Z",
     "start_time": "2024-07-01T14:32:45.795246Z"
    }
   },
   "id": "56039484952d744e",
   "execution_count": 83
  },
  {
   "cell_type": "code",
   "outputs": [
    {
     "name": "stdout",
     "output_type": "stream",
     "text": [
      "<class 'pandas.core.frame.DataFrame'>\n",
      "RangeIndex: 800 entries, 0 to 799\n",
      "Data columns (total 9 columns):\n",
      " #   Column         Non-Null Count  Dtype \n",
      "---  ------         --------------  ----- \n",
      " 0   Jenis Ikan     800 non-null    object\n",
      " 1   Ukuran         800 non-null    int64 \n",
      " 2   Gender         800 non-null    object\n",
      " 3   Umur           800 non-null    object\n",
      " 4   Jumlah Corak   800 non-null    int64 \n",
      " 5   Corak Dominan  800 non-null    object\n",
      " 6   Spesifikasi    800 non-null    object\n",
      " 7   Harga          800 non-null    int64 \n",
      " 8   Tempat         800 non-null    object\n",
      "dtypes: int64(3), object(6)\n",
      "memory usage: 56.4+ KB\n"
     ]
    }
   ],
   "source": [
    "df.info()"
   ],
   "metadata": {
    "collapsed": false,
    "ExecuteTime": {
     "end_time": "2024-07-01T14:33:07.724457Z",
     "start_time": "2024-07-01T14:33:07.717010Z"
    }
   },
   "id": "a82d034922a36fbd",
   "execution_count": 84
  },
  {
   "cell_type": "code",
   "outputs": [
    {
     "data": {
      "text/plain": "Jenis Ikan       0\nUkuran           0\nGender           0\nUmur             0\nJumlah Corak     0\nCorak Dominan    0\nSpesifikasi      0\nHarga            0\nTempat           0\ndtype: int64"
     },
     "execution_count": 86,
     "metadata": {},
     "output_type": "execute_result"
    }
   ],
   "source": [
    "df.isnull().sum()"
   ],
   "metadata": {
    "collapsed": false,
    "ExecuteTime": {
     "end_time": "2024-07-01T14:34:52.363439Z",
     "start_time": "2024-07-01T14:34:52.358119Z"
    }
   },
   "id": "7855b73926cab811",
   "execution_count": 86
  },
  {
   "cell_type": "code",
   "outputs": [
    {
     "data": {
      "text/plain": "<Figure size 640x480 with 1 Axes>",
      "image/png": "[encoded data removed]"
     },
     "metadata": {},
     "output_type": "display_data"
    }
   ],
   "source": [
    "def plot_by_fish_type():\n",
    "    trimmed_df = df[[\"Jenis Ikan\", \"Harga\"]]\n",
    "    fig, ax = plt.subplots()\n",
    "    fig.tight_layout()\n",
    "\n",
    "    fishes = list(set(trimmed_df[\"Jenis Ikan\"]))\n",
    "    fish_price_mean = []\n",
    "    for fish in fishes:\n",
    "        current_df = trimmed_df[trimmed_df[\"Jenis Ikan\"] == fish]\n",
    "        fish_price_mean.append(current_df[\"Harga\"].mean() / 1e4)\n",
    "\n",
    "    ax.bar(fishes, fish_price_mean)\n",
    "\n",
    "    ax.set_ylabel('Harga')\n",
    "    ax.set_title('Mean Harga Ikan Koi Berdasarkan Jenis / 1e4')\n",
    "    ax.legend('Jenis Ikan')\n",
    "\n",
    "\n",
    "plot_by_fish_type()\n"
   ],
   "metadata": {
    "collapsed": false,
    "ExecuteTime": {
     "end_time": "2024-07-01T14:16:14.783788Z",
     "start_time": "2024-07-01T14:16:14.649898Z"
    }
   },
   "id": "7a96a8cfdadafa2a",
   "execution_count": 75
  },
  {
   "cell_type": "code",
   "outputs": [
    {
     "data": {
      "text/plain": "<Figure size 640x480 with 1 Axes>",
      "image/png": "[encoded data removed]"
     },
     "metadata": {},
     "output_type": "display_data"
    }
   ],
   "source": [
    "def plot_by_size():\n",
    "    trimmed_df = df[[\"Ukuran\", \"Harga\"]]\n",
    "    fig, ax = plt.subplots()\n",
    "    fig.tight_layout()\n",
    "\n",
    "    fishes = list(set(trimmed_df[\"Ukuran\"]))\n",
    "    fish_price_mean = []\n",
    "    for fish in fishes:\n",
    "        current_df = trimmed_df[trimmed_df[\"Ukuran\"] == fish]\n",
    "        fish_price_mean.append(current_df[\"Harga\"].mean() / 1e4)\n",
    "\n",
    "    ax.bar(fishes, fish_price_mean)\n",
    "\n",
    "    ax.set_ylabel('Harga')\n",
    "    ax.set_title('Mean Harga Ikan Koi Berdasarkan Ukuran / 1e4')\n",
    "    ax.set_xlabel('Ukuran Ikan')\n",
    "\n",
    "\n",
    "plot_by_size()\n"
   ],
   "metadata": {
    "collapsed": false,
    "ExecuteTime": {
     "end_time": "2024-07-01T14:21:48.780765Z",
     "start_time": "2024-07-01T14:21:48.606321Z"
    }
   },
   "id": "b675437cb99f80ee",
   "execution_count": 79
  },
  {
   "cell_type": "code",
   "outputs": [
    {
     "data": {
      "text/plain": "((800, 1), (800,))"
     },
     "execution_count": 184,
     "metadata": {},
     "output_type": "execute_result"
    }
   ],
   "source": [
    "features = df.loc[:, [\"Ukuran\"]]\n",
    "labels = df['Harga']\n",
    "features.shape, labels.shape"
   ],
   "metadata": {
    "collapsed": false,
    "ExecuteTime": {
     "end_time": "2024-07-01T15:03:17.594347Z",
     "start_time": "2024-07-01T15:03:17.590348Z"
    }
   },
   "id": "13d714b3bede8453",
   "execution_count": 184
  },
  {
   "cell_type": "code",
   "outputs": [
    {
     "data": {
      "text/plain": "       Ukuran\n0    0.000000\n1    0.000000\n2    0.025641\n3    0.025641\n4    0.051282\n..        ...\n795  0.948718\n796  0.974359\n797  0.974359\n798  1.000000\n799  1.000000\n\n[800 rows x 1 columns]",
      "text/html": "<div>\n<style scoped>\n    .dataframe tbody tr th:only-of-type {\n        vertical-align: middle;\n    }\n\n    .dataframe tbody tr th {\n        vertical-align: top;\n    }\n\n    .dataframe thead th {\n        text-align: right;\n    }\n</style>\n<table border=\"1\" class=\"dataframe\">\n  <thead>\n    <tr style=\"text-align: right;\">\n      <th></th>\n      <th>Ukuran</th>\n    </tr>\n  </thead>\n  <tbody>\n    <tr>\n      <th>0</th>\n      <td>0.000000</td>\n    </tr>\n    <tr>\n      <th>1</th>\n      <td>0.000000</td>\n    </tr>\n    <tr>\n      <th>2</th>\n      <td>0.025641</td>\n    </tr>\n    <tr>\n      <th>3</th>\n      <td>0.025641</td>\n    </tr>\n    <tr>\n      <th>4</th>\n      <td>0.051282</td>\n    </tr>\n    <tr>\n      <th>...</th>\n      <td>...</td>\n    </tr>\n    <tr>\n      <th>795</th>\n      <td>0.948718</td>\n    </tr>\n    <tr>\n      <th>796</th>\n      <td>0.974359</td>\n    </tr>\n    <tr>\n      <th>797</th>\n      <td>0.974359</td>\n    </tr>\n    <tr>\n      <th>798</th>\n      <td>1.000000</td>\n    </tr>\n    <tr>\n      <th>799</th>\n      <td>1.000000</td>\n    </tr>\n  </tbody>\n</table>\n<p>800 rows × 1 columns</p>\n</div>"
     },
     "execution_count": 188,
     "metadata": {},
     "output_type": "execute_result"
    }
   ],
   "source": [
    "features[\"Ukuran\"] = features['Ukuran'].apply(lambda f: (f - features[\"Ukuran\"].min())/ (features[\"Ukuran\"].max() - features[\"Ukuran\"].min()))\n",
    "features"
   ],
   "metadata": {
    "collapsed": false,
    "ExecuteTime": {
     "end_time": "2024-07-01T15:03:27.375025Z",
     "start_time": "2024-07-01T15:03:27.336217Z"
    }
   },
   "id": "518f157e9bfe5407",
   "execution_count": 188
  },
  {
   "cell_type": "code",
   "outputs": [],
   "source": [
    "x_train, x_test, y_train, y_test = train_test_split(features, labels, test_size=0.2, random_state=42)"
   ],
   "metadata": {
    "collapsed": false,
    "ExecuteTime": {
     "end_time": "2024-07-01T15:03:29.246124Z",
     "start_time": "2024-07-01T15:03:29.242056Z"
    }
   },
   "id": "2f4be4ea78389e29",
   "execution_count": 189
  },
  {
   "cell_type": "code",
   "outputs": [
    {
     "data": {
      "text/plain": "LogisticRegression()",
      "text/html": "<style>#sk-container-id-11 {\n  /* Definition of color scheme common for light and dark mode */\n  --sklearn-color-text: black;\n  --sklearn-color-line: gray;\n  /* Definition of color scheme for unfitted estimators */\n  --sklearn-color-unfitted-level-0: #fff5e6;\n  --sklearn-color-unfitted-level-1: #f6e4d2;\n  --sklearn-color-unfitted-level-2: #ffe0b3;\n  --sklearn-color-unfitted-level-3: chocolate;\n  /* Definition of color scheme for fitted estimators */\n  --sklearn-color-fitted-level-0: #f0f8ff;\n  --sklearn-color-fitted-level-1: #d4ebff;\n  --sklearn-color-fitted-level-2: #b3dbfd;\n  --sklearn-color-fitted-level-3: cornflowerblue;\n\n  /* Specific color for light theme */\n  --sklearn-color-text-on-default-background: var(--sg-text-color, var(--theme-code-foreground, var(--jp-content-font-color1, black)));\n  --sklearn-color-background: var(--sg-background-color, var(--theme-background, var(--jp-layout-color0, white)));\n  --sklearn-color-border-box: var(--sg-text-color, var(--theme-code-foreground, var(--jp-content-font-color1, black)));\n  --sklearn-color-icon: #696969;\n\n  @media (prefers-color-scheme: dark) {\n    /* Redefinition of color scheme for dark theme */\n    --sklearn-color-text-on-default-background: var(--sg-text-color, var(--theme-code-foreground, var(--jp-content-font-color1, white)));\n    --sklearn-color-background: var(--sg-background-color, var(--theme-background, var(--jp-layout-color0, #111)));\n    --sklearn-color-border-box: var(--sg-text-color, var(--theme-code-foreground, var(--jp-content-font-color1, white)));\n    --sklearn-color-icon: #878787;\n  }\n}\n\n#sk-container-id-11 {\n  color: var(--sklearn-color-text);\n}\n\n#sk-container-id-11 pre {\n  padding: 0;\n}\n\n#sk-container-id-11 input.sk-hidden--visually {\n  border: 0;\n  clip: rect(1px 1px 1px 1px);\n  clip: rect(1px, 1px, 1px, 1px);\n  height: 1px;\n  margin: -1px;\n  overflow: hidden;\n  padding: 0;\n  position: absolute;\n  width: 1px;\n}\n\n#sk-container-id-11 div.sk-dashed-wrapped {\n  border: 1px dashed var(--sklearn-color-line);\n  margin: 0 0.4em 0.5em 0.4em;\n  box-sizing: border-box;\n  padding-bottom: 0.4em;\n  background-color: var(--sklearn-color-background);\n}\n\n#sk-container-id-11 div.sk-container {\n  /* jupyter's `normalize.less` sets `[hidden] { display: none; }`\n     but bootstrap.min.css set `[hidden] { display: none !important; }`\n     so we also need the `!important` here to be able to override the\n     default hidden behavior on the sphinx rendered scikit-learn.org.\n     See: https://github.com/scikit-learn/scikit-learn/issues/21755 */\n  display: inline-block !important;\n  position: relative;\n}\n\n#sk-container-id-11 div.sk-text-repr-fallback {\n  display: none;\n}\n\ndiv.sk-parallel-item,\ndiv.sk-serial,\ndiv.sk-item {\n  /* draw centered vertical line to link estimators */\n  background-image: linear-gradient(var(--sklearn-color-text-on-default-background), var(--sklearn-color-text-on-default-background));\n  background-size: 2px 100%;\n  background-repeat: no-repeat;\n  background-position: center center;\n}\n\n/* Parallel-specific style estimator block */\n\n#sk-container-id-11 div.sk-parallel-item::after {\n  content: \"\";\n  width: 100%;\n  border-bottom: 2px solid var(--sklearn-color-text-on-default-background);\n  flex-grow: 1;\n}\n\n#sk-container-id-11 div.sk-parallel {\n  display: flex;\n  align-items: stretch;\n  justify-content: center;\n  background-color: var(--sklearn-color-background);\n  position: relative;\n}\n\n#sk-container-id-11 div.sk-parallel-item {\n  display: flex;\n  flex-direction: column;\n}\n\n#sk-container-id-11 div.sk-parallel-item:first-child::after {\n  align-self: flex-end;\n  width: 50%;\n}\n\n#sk-container-id-11 div.sk-parallel-item:last-child::after {\n  align-self: flex-start;\n  width: 50%;\n}\n\n#sk-container-id-11 div.sk-parallel-item:only-child::after {\n  width: 0;\n}\n\n/* Serial-specific style estimator block */\n\n#sk-container-id-11 div.sk-serial {\n  display: flex;\n  flex-direction: column;\n  align-items: center;\n  background-color: var(--sklearn-color-background);\n  padding-right: 1em;\n  padding-left: 1em;\n}\n\n\n/* Toggleable style: style used for estimator/Pipeline/ColumnTransformer box that is\nclickable and can be expanded/collapsed.\n- Pipeline and ColumnTransformer use this feature and define the default style\n- Estimators will overwrite some part of the style using the `sk-estimator` class\n*/\n\n/* Pipeline and ColumnTransformer style (default) */\n\n#sk-container-id-11 div.sk-toggleable {\n  /* Default theme specific background. It is overwritten whether we have a\n  specific estimator or a Pipeline/ColumnTransformer */\n  background-color: var(--sklearn-color-background);\n}\n\n/* Toggleable label */\n#sk-container-id-11 label.sk-toggleable__label {\n  cursor: pointer;\n  display: block;\n  width: 100%;\n  margin-bottom: 0;\n  padding: 0.5em;\n  box-sizing: border-box;\n  text-align: center;\n}\n\n#sk-container-id-11 label.sk-toggleable__label-arrow:before {\n  /* Arrow on the left of the label */\n  content: \"▸\";\n  float: left;\n  margin-right: 0.25em;\n  color: var(--sklearn-color-icon);\n}\n\n#sk-container-id-11 label.sk-toggleable__label-arrow:hover:before {\n  color: var(--sklearn-color-text);\n}\n\n/* Toggleable content - dropdown */\n\n#sk-container-id-11 div.sk-toggleable__content {\n  max-height: 0;\n  max-width: 0;\n  overflow: hidden;\n  text-align: left;\n  /* unfitted */\n  background-color: var(--sklearn-color-unfitted-level-0);\n}\n\n#sk-container-id-11 div.sk-toggleable__content.fitted {\n  /* fitted */\n  background-color: var(--sklearn-color-fitted-level-0);\n}\n\n#sk-container-id-11 div.sk-toggleable__content pre {\n  margin: 0.2em;\n  border-radius: 0.25em;\n  color: var(--sklearn-color-text);\n  /* unfitted */\n  background-color: var(--sklearn-color-unfitted-level-0);\n}\n\n#sk-container-id-11 div.sk-toggleable__content.fitted pre {\n  /* unfitted */\n  background-color: var(--sklearn-color-fitted-level-0);\n}\n\n#sk-container-id-11 input.sk-toggleable__control:checked~div.sk-toggleable__content {\n  /* Expand drop-down */\n  max-height: 200px;\n  max-width: 100%;\n  overflow: auto;\n}\n\n#sk-container-id-11 input.sk-toggleable__control:checked~label.sk-toggleable__label-arrow:before {\n  content: \"▾\";\n}\n\n/* Pipeline/ColumnTransformer-specific style */\n\n#sk-container-id-11 div.sk-label input.sk-toggleable__control:checked~label.sk-toggleable__label {\n  color: var(--sklearn-color-text);\n  background-color: var(--sklearn-color-unfitted-level-2);\n}\n\n#sk-container-id-11 div.sk-label.fitted input.sk-toggleable__control:checked~label.sk-toggleable__label {\n  background-color: var(--sklearn-color-fitted-level-2);\n}\n\n/* Estimator-specific style */\n\n/* Colorize estimator box */\n#sk-container-id-11 div.sk-estimator input.sk-toggleable__control:checked~label.sk-toggleable__label {\n  /* unfitted */\n  background-color: var(--sklearn-color-unfitted-level-2);\n}\n\n#sk-container-id-11 div.sk-estimator.fitted input.sk-toggleable__control:checked~label.sk-toggleable__label {\n  /* fitted */\n  background-color: var(--sklearn-color-fitted-level-2);\n}\n\n#sk-container-id-11 div.sk-label label.sk-toggleable__label,\n#sk-container-id-11 div.sk-label label {\n  /* The background is the default theme color */\n  color: var(--sklearn-color-text-on-default-background);\n}\n\n/* On hover, darken the color of the background */\n#sk-container-id-11 div.sk-label:hover label.sk-toggleable__label {\n  color: var(--sklearn-color-text);\n  background-color: var(--sklearn-color-unfitted-level-2);\n}\n\n/* Label box, darken color on hover, fitted */\n#sk-container-id-11 div.sk-label.fitted:hover label.sk-toggleable__label.fitted {\n  color: var(--sklearn-color-text);\n  background-color: var(--sklearn-color-fitted-level-2);\n}\n\n/* Estimator label */\n\n#sk-container-id-11 div.sk-label label {\n  font-family: monospace;\n  font-weight: bold;\n  display: inline-block;\n  line-height: 1.2em;\n}\n\n#sk-container-id-11 div.sk-label-container {\n  text-align: center;\n}\n\n/* Estimator-specific */\n#sk-container-id-11 div.sk-estimator {\n  font-family: monospace;\n  border: 1px dotted var(--sklearn-color-border-box);\n  border-radius: 0.25em;\n  box-sizing: border-box;\n  margin-bottom: 0.5em;\n  /* unfitted */\n  background-color: var(--sklearn-color-unfitted-level-0);\n}\n\n#sk-container-id-11 div.sk-estimator.fitted {\n  /* fitted */\n  background-color: var(--sklearn-color-fitted-level-0);\n}\n\n/* on hover */\n#sk-container-id-11 div.sk-estimator:hover {\n  /* unfitted */\n  background-color: var(--sklearn-color-unfitted-level-2);\n}\n\n#sk-container-id-11 div.sk-estimator.fitted:hover {\n  /* fitted */\n  background-color: var(--sklearn-color-fitted-level-2);\n}\n\n/* Specification for estimator info (e.g. \"i\" and \"?\") */\n\n/* Common style for \"i\" and \"?\" */\n\n.sk-estimator-doc-link,\na:link.sk-estimator-doc-link,\na:visited.sk-estimator-doc-link {\n  float: right;\n  font-size: smaller;\n  line-height: 1em;\n  font-family: monospace;\n  background-color: var(--sklearn-color-background);\n  border-radius: 1em;\n  height: 1em;\n  width: 1em;\n  text-decoration: none !important;\n  margin-left: 1ex;\n  /* unfitted */\n  border: var(--sklearn-color-unfitted-level-1) 1pt solid;\n  color: var(--sklearn-color-unfitted-level-1);\n}\n\n.sk-estimator-doc-link.fitted,\na:link.sk-estimator-doc-link.fitted,\na:visited.sk-estimator-doc-link.fitted {\n  /* fitted */\n  border: var(--sklearn-color-fitted-level-1) 1pt solid;\n  color: var(--sklearn-color-fitted-level-1);\n}\n\n/* On hover */\ndiv.sk-estimator:hover .sk-estimator-doc-link:hover,\n.sk-estimator-doc-link:hover,\ndiv.sk-label-container:hover .sk-estimator-doc-link:hover,\n.sk-estimator-doc-link:hover {\n  /* unfitted */\n  background-color: var(--sklearn-color-unfitted-level-3);\n  color: var(--sklearn-color-background);\n  text-decoration: none;\n}\n\ndiv.sk-estimator.fitted:hover .sk-estimator-doc-link.fitted:hover,\n.sk-estimator-doc-link.fitted:hover,\ndiv.sk-label-container:hover .sk-estimator-doc-link.fitted:hover,\n.sk-estimator-doc-link.fitted:hover {\n  /* fitted */\n  background-color: var(--sklearn-color-fitted-level-3);\n  color: var(--sklearn-color-background);\n  text-decoration: none;\n}\n\n/* Span, style for the box shown on hovering the info icon */\n.sk-estimator-doc-link span {\n  display: none;\n  z-index: 9999;\n  position: relative;\n  font-weight: normal;\n  right: .2ex;\n  padding: .5ex;\n  margin: .5ex;\n  width: min-content;\n  min-width: 20ex;\n  max-width: 50ex;\n  color: var(--sklearn-color-text);\n  box-shadow: 2pt 2pt 4pt #999;\n  /* unfitted */\n  background: var(--sklearn-color-unfitted-level-0);\n  border: .5pt solid var(--sklearn-color-unfitted-level-3);\n}\n\n.sk-estimator-doc-link.fitted span {\n  /* fitted */\n  background: var(--sklearn-color-fitted-level-0);\n  border: var(--sklearn-color-fitted-level-3);\n}\n\n.sk-estimator-doc-link:hover span {\n  display: block;\n}\n\n/* \"?\"-specific style due to the `<a>` HTML tag */\n\n#sk-container-id-11 a.estimator_doc_link {\n  float: right;\n  font-size: 1rem;\n  line-height: 1em;\n  font-family: monospace;\n  background-color: var(--sklearn-color-background);\n  border-radius: 1rem;\n  height: 1rem;\n  width: 1rem;\n  text-decoration: none;\n  /* unfitted */\n  color: var(--sklearn-color-unfitted-level-1);\n  border: var(--sklearn-color-unfitted-level-1) 1pt solid;\n}\n\n#sk-container-id-11 a.estimator_doc_link.fitted {\n  /* fitted */\n  border: var(--sklearn-color-fitted-level-1) 1pt solid;\n  color: var(--sklearn-color-fitted-level-1);\n}\n\n/* On hover */\n#sk-container-id-11 a.estimator_doc_link:hover {\n  /* unfitted */\n  background-color: var(--sklearn-color-unfitted-level-3);\n  color: var(--sklearn-color-background);\n  text-decoration: none;\n}\n\n#sk-container-id-11 a.estimator_doc_link.fitted:hover {\n  /* fitted */\n  background-color: var(--sklearn-color-fitted-level-3);\n}\n</style><div id=\"sk-container-id-11\" class=\"sk-top-container\"><div class=\"sk-text-repr-fallback\"><pre>LogisticRegression()</pre><b>In a Jupyter environment, please rerun this cell to show the HTML representation or trust the notebook. <br />On GitHub, the HTML representation is unable to render, please try loading this page with nbviewer.org.</b></div><div class=\"sk-container\" hidden><div class=\"sk-item\"><div class=\"sk-estimator fitted sk-toggleable\"><input class=\"sk-toggleable__control sk-hidden--visually\" id=\"sk-estimator-id-11\" type=\"checkbox\" checked><label for=\"sk-estimator-id-11\" class=\"sk-toggleable__label fitted sk-toggleable__label-arrow fitted\">&nbsp;&nbsp;LogisticRegression<a class=\"sk-estimator-doc-link fitted\" rel=\"noreferrer\" target=\"_blank\" href=\"https://scikit-learn.org/1.4/modules/generated/sklearn.linear_model.LogisticRegression.html\">?<span>Documentation for LogisticRegression</span></a><span class=\"sk-estimator-doc-link fitted\">i<span>Fitted</span></span></label><div class=\"sk-toggleable__content fitted\"><pre>LogisticRegression()</pre></div> </div></div></div></div>"
     },
     "execution_count": 209,
     "metadata": {},
     "output_type": "execute_result"
    }
   ],
   "source": [
    "model = LogisticRegression()\n",
    "model.fit(x_train, y_train)"
   ],
   "metadata": {
    "collapsed": false,
    "ExecuteTime": {
     "end_time": "2024-07-01T15:08:09.716545Z",
     "start_time": "2024-07-01T15:08:09.702450Z"
    }
   },
   "id": "1af17a4f564131a9",
   "execution_count": 209
  },
  {
   "cell_type": "code",
   "outputs": [
    {
     "name": "stdout",
     "output_type": "stream",
     "text": [
      "[[-2.56090743]\n",
      " [-2.62095639]\n",
      " [-2.08805092]\n",
      " [-1.96609405]\n",
      " [-3.15983799]\n",
      " [-2.21075341]\n",
      " [-2.64308693]\n",
      " [-1.54484417]\n",
      " [-2.97179218]\n",
      " [-2.18002379]\n",
      " [-1.62414493]\n",
      " [-2.61316766]\n",
      " [-1.24798434]\n",
      " [-2.29926646]\n",
      " [-2.06512628]\n",
      " [-1.05536596]\n",
      " [-1.73038777]\n",
      " [-1.64599189]\n",
      " [-1.31395619]\n",
      " [-0.38599198]\n",
      " [-1.05160547]\n",
      " [-0.24044544]\n",
      " [-0.80018878]\n",
      " [-0.67875646]\n",
      " [ 0.17254595]\n",
      " [-0.3121055 ]\n",
      " [ 0.37455563]\n",
      " [-0.16701797]\n",
      " [ 0.1162411 ]\n",
      " [-0.31601229]\n",
      " [ 0.35179167]\n",
      " [ 0.53856244]\n",
      " [ 0.63690073]\n",
      " [ 0.17254595]\n",
      " [ 0.28057273]\n",
      " [ 0.43464734]\n",
      " [ 1.27834056]\n",
      " [ 1.54196112]\n",
      " [ 1.41876699]\n",
      " [ 1.669329  ]\n",
      " [ 1.53001414]\n",
      " [ 1.80423118]\n",
      " [ 2.23790094]\n",
      " [ 2.21899986]\n",
      " [ 2.43845192]\n",
      " [ 2.11574358]\n",
      " [ 2.42215335]\n",
      " [ 1.25320829]\n",
      " [ 1.39131042]\n",
      " [ 1.29753708]\n",
      " [ 1.41365984]\n",
      " [ 1.67530858]\n",
      " [ 2.08498037]\n",
      " [ 2.09134304]\n",
      " [ 2.23343675]\n",
      " [ 1.3099746 ]\n",
      " [ 2.32465479]\n",
      " [ 2.66419272]]\n"
     ]
    }
   ],
   "source": [
    "print(model.coef_)"
   ],
   "metadata": {
    "collapsed": false,
    "ExecuteTime": {
     "end_time": "2024-07-01T15:08:11.015376Z",
     "start_time": "2024-07-01T15:08:11.011856Z"
    }
   },
   "id": "d34a4e894380cc30",
   "execution_count": 210
  },
  {
   "cell_type": "code",
   "outputs": [
    {
     "data": {
      "text/plain": "      Real  Prediction\n0   500000      750000\n1   150000       90000\n2  3500000     1200000\n3  1000000      750000\n4   900000     1200000",
      "text/html": "<div>\n<style scoped>\n    .dataframe tbody tr th:only-of-type {\n        vertical-align: middle;\n    }\n\n    .dataframe tbody tr th {\n        vertical-align: top;\n    }\n\n    .dataframe thead th {\n        text-align: right;\n    }\n</style>\n<table border=\"1\" class=\"dataframe\">\n  <thead>\n    <tr style=\"text-align: right;\">\n      <th></th>\n      <th>Real</th>\n      <th>Prediction</th>\n    </tr>\n  </thead>\n  <tbody>\n    <tr>\n      <th>0</th>\n      <td>500000</td>\n      <td>750000</td>\n    </tr>\n    <tr>\n      <th>1</th>\n      <td>150000</td>\n      <td>90000</td>\n    </tr>\n    <tr>\n      <th>2</th>\n      <td>3500000</td>\n      <td>1200000</td>\n    </tr>\n    <tr>\n      <th>3</th>\n      <td>1000000</td>\n      <td>750000</td>\n    </tr>\n    <tr>\n      <th>4</th>\n      <td>900000</td>\n      <td>1200000</td>\n    </tr>\n  </tbody>\n</table>\n</div>"
     },
     "execution_count": 214,
     "metadata": {},
     "output_type": "execute_result"
    }
   ],
   "source": [
    "y_pred = pd.Series(model.predict(x_test))\n",
    "y_test = y_test.reset_index(drop=True)\n",
    "z = pd.concat([y_test, y_pred], axis=1)\n",
    "z.columns = ['Real', 'Prediction']\n",
    "z.head()"
   ],
   "metadata": {
    "collapsed": false,
    "ExecuteTime": {
     "end_time": "2024-07-01T15:09:17.713268Z",
     "start_time": "2024-07-01T15:09:17.706153Z"
    }
   },
   "id": "4ee88b48f29565b",
   "execution_count": 214
  },
  {
   "cell_type": "code",
   "outputs": [
    {
     "name": "stdout",
     "output_type": "stream",
     "text": [
      "Accuracy:  0.04375\n",
      "Precision:  0.07772003538257409\n",
      "Recall:  0.04375\n"
     ]
    }
   ],
   "source": [
    "print(\"Accuracy: \", accuracy_score(y_test, y_pred))\n",
    "print(\"Precision: \", precision_score(y_test, y_pred, average='weighted', zero_division=np.nan))\n",
    "print(\"Recall: \", recall_score(y_test, y_pred, average='weighted', zero_division=np.nan))"
   ],
   "metadata": {
    "collapsed": false,
    "ExecuteTime": {
     "end_time": "2024-07-01T15:12:43.833802Z",
     "start_time": "2024-07-01T15:12:43.825955Z"
    }
   },
   "id": "a534561876e12fe5",
   "execution_count": 235
  }
 ],
 "metadata": {
  "kernelspec": {
   "display_name": "Python 3",
   "language": "python",
   "name": "python3"
  },
  "language_info": {
   "codemirror_mode": {
    "name": "ipython",
    "version": 2
   },
   "file_extension": ".py",
   "mimetype": "text/x-python",
   "name": "python",
   "nbconvert_exporter": "python",
   "pygments_lexer": "ipython2",
   "version": "2.7.6"
  }
 },
 "nbformat": 4,
 "nbformat_minor": 5
}
