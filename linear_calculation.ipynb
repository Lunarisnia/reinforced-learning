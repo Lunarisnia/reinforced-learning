{
 "cells": [
  {
   "cell_type": "code",
   "execution_count": 1491,
   "id": "initial_id",
   "metadata": {
    "collapsed": true,
    "ExecuteTime": {
     "end_time": "2024-03-08T07:12:26.101349Z",
     "start_time": "2024-03-08T07:12:26.088465Z"
    }
   },
   "outputs": [],
   "source": [
    "import torch\n",
    "from torch import nn\n",
    "from torch.nn import functional as F\n",
    "\n",
    "torch.manual_seed(8827)\n",
    "n = 10_000\n",
    "numbers = torch.randint(0, 30_000, (n,))"
   ]
  },
  {
   "cell_type": "code",
   "outputs": [
    {
     "name": "stdout",
     "output_type": "stream",
     "text": [
      "torch.Size([9000])\n",
      "torch.Size([1000])\n"
     ]
    }
   ],
   "source": [
    "# Split dataset\n",
    "split_percentage = int(0.9 * len(numbers))\n",
    "train_dataset = numbers[:split_percentage]\n",
    "val_dataset = numbers[split_percentage:]\n",
    "\n",
    "print(train_dataset.shape)\n",
    "print(val_dataset.shape)"
   ],
   "metadata": {
    "collapsed": false,
    "ExecuteTime": {
     "end_time": "2024-03-08T07:12:27.228247Z",
     "start_time": "2024-03-08T07:12:27.223652Z"
    }
   },
   "id": "9f404d657950ddd7",
   "execution_count": 1492
  },
  {
   "cell_type": "code",
   "outputs": [
    {
     "name": "stdout",
     "output_type": "stream",
     "text": [
      "xb: torch.Size([8, 64])\n",
      "yb: torch.Size([8, 64])\n"
     ]
    }
   ],
   "source": [
    "batch_size = 8\n",
    "context_length = 64\n",
    "\n",
    "\n",
    "def get_batch(split):\n",
    "    data = train_dataset if split == 'train' else val_dataset\n",
    "    random_offsets = torch.randint(len(data) - context_length, (batch_size,))\n",
    "    xb = torch.stack([data[i:context_length + i] for i in random_offsets])\n",
    "    yb = xb ** 2\n",
    "\n",
    "    return xb.float(), yb.float()\n",
    "\n",
    "\n",
    "xb, yb = get_batch('train')\n",
    "print(f\"xb: {xb.shape}\")\n",
    "print(f\"yb: {yb.shape}\")"
   ],
   "metadata": {
    "collapsed": false,
    "ExecuteTime": {
     "end_time": "2024-03-08T07:28:04.693787Z",
     "start_time": "2024-03-08T07:28:04.686970Z"
    }
   },
   "id": "8779e3887af217ec",
   "execution_count": 1604
  },
  {
   "cell_type": "code",
   "outputs": [],
   "source": [
    "class MLP(nn.Module):\n",
    "    def __init__(self):\n",
    "        super().__init__()\n",
    "\n",
    "        self.sequential = nn.Sequential(\n",
    "            nn.Linear(context_length, context_length),\n",
    "            # nn.Linear(context_length, 128),\n",
    "            # nn.ReLU(),\n",
    "            # nn.Linear(128, 512),\n",
    "            # nn.Linear(512, 512),\n",
    "            # nn.ReLU(),\n",
    "            # nn.Linear(512, 128),\n",
    "            # nn.ReLU(),\n",
    "            # nn.Linear(512, context_length),\n",
    "        )\n",
    "        self.ln_norm = nn.LayerNorm(context_length)\n",
    "\n",
    "    def forward(self, x, y):\n",
    "        x_mean_val = x.mean(dim=1, keepdim=True)\n",
    "        x_std_dev = x.std(dim=1, keepdim=True)\n",
    "        x = (x - x_mean_val) / x_std_dev\n",
    "\n",
    "        y_mean_val = y.mean(dim=1, keepdim=True)\n",
    "        y_std_dev = y.std(dim=1, keepdim=True)\n",
    "        y = (y - y_mean_val) / y_std_dev\n",
    "        logits = self.sequential(x)\n",
    "        # logits = self.ln_norm(logits)\n",
    "        # logits = self.sequential(logits)\n",
    "\n",
    "        loss = F.mse_loss(logits, y)\n",
    "\n",
    "        return logits, loss\n",
    "\n",
    "\n",
    "model = MLP()\n",
    "logits, loss = model(xb, yb)\n",
    "# print(logits, loss)\n",
    "# Optimizer\n",
    "optimizer = torch.optim.Adam(model.parameters(), lr=1e-4)"
   ],
   "metadata": {
    "collapsed": false,
    "ExecuteTime": {
     "end_time": "2024-03-08T08:44:05.696438Z",
     "start_time": "2024-03-08T08:44:05.649892Z"
    }
   },
   "id": "93bec0fb5632a028",
   "execution_count": 1726
  },
  {
   "cell_type": "code",
   "outputs": [
    {
     "name": "stdout",
     "output_type": "stream",
     "text": [
      "tensor(0.0576, grad_fn=<MseLossBackward0>)\n"
     ]
    }
   ],
   "source": [
    "\n",
    "\n",
    "# training loop\n",
    "for _ in range(1000):\n",
    "    xb, yb = get_batch('train')\n",
    "    logits, loss = model(xb, yb)\n",
    "\n",
    "    optimizer.zero_grad()\n",
    "    loss.backward()\n",
    "    optimizer.step()\n",
    "\n",
    "print(loss)"
   ],
   "metadata": {
    "collapsed": false,
    "ExecuteTime": {
     "end_time": "2024-03-08T08:44:17.933145Z",
     "start_time": "2024-03-08T08:44:17.734197Z"
    }
   },
   "id": "1f7b7efca4d214b9",
   "execution_count": 1746
  },
  {
   "cell_type": "code",
   "outputs": [
    {
     "name": "stdout",
     "output_type": "stream",
     "text": [
      "prediction loss: 0.061485182493925095\n",
      "prediction: tensor([ 1.2993e+08,  6.7717e+08,  7.1782e+08,  3.7606e+08,  5.5574e+08,\n",
      "         2.9279e+08,  6.4761e+08, -1.1749e+08,  1.0407e+08, -1.2491e+08,\n",
      "         7.0917e+08,  2.6072e+08,  1.4688e+08,  1.4141e+08,  2.6037e+08,\n",
      "         5.0927e+08, -1.9124e+07,  2.4122e+08, -3.6975e+06,  4.7170e+08,\n",
      "         4.9689e+08,  5.3483e+08,  1.3696e+08,  3.1839e+08, -5.4629e+07,\n",
      "         4.9811e+08,  4.7726e+08,  2.5151e+08,  4.2580e+08, -1.1610e+08,\n",
      "         6.9708e+08, -9.0739e+07, -3.7830e+07,  2.7469e+08,  4.6142e+08,\n",
      "         3.2809e+08,  3.0613e+08, -2.5958e+07,  2.6648e+07, -7.7005e+07,\n",
      "         6.3536e+08,  8.9144e+07,  4.6075e+08,  6.3454e+08,  3.3495e+08,\n",
      "         3.2281e+08,  6.5684e+08,  2.9651e+07,  1.7446e+08,  3.9048e+08,\n",
      "         4.9318e+06,  4.5096e+08,  5.5807e+08,  4.7422e+08,  4.8498e+08,\n",
      "         4.2955e+08,  2.0177e+08, -2.2773e+07,  4.5633e+07, -9.5346e+07,\n",
      "        -2.6363e+07,  2.8752e+08,  1.8145e+08,  7.1107e+07],\n",
      "       grad_fn=<RoundBackward0>)\n",
      "yb: tensor([8.1180e+07, 7.8742e+08, 8.4885e+08, 3.2091e+08, 5.6321e+08, 2.0929e+08,\n",
      "        7.2178e+08, 1.9892e+05, 6.0793e+07, 1.1972e+05, 8.5591e+08, 1.9516e+08,\n",
      "        9.9521e+07, 8.9662e+07, 1.8942e+08, 5.0319e+08, 1.2788e+07, 1.7109e+08,\n",
      "        1.8190e+07, 4.4411e+08, 4.8554e+08, 5.3949e+08, 9.3258e+07, 2.5405e+08,\n",
      "        6.1207e+06, 4.7847e+08, 4.4302e+08, 1.8534e+08, 3.8385e+08, 5.4289e+04,\n",
      "        8.2375e+08, 2.2320e+06, 1.0556e+07, 1.8887e+08, 4.2403e+08, 2.5431e+08,\n",
      "        2.2677e+08, 1.1608e+07, 2.7155e+07, 2.3256e+06, 7.2474e+08, 6.3457e+07,\n",
      "        4.0634e+08, 7.2275e+08, 2.7281e+08, 2.4876e+08, 7.5257e+08, 3.1776e+07,\n",
      "        1.1481e+08, 3.2739e+08, 2.0612e+07, 4.0768e+08, 5.8923e+08, 4.5459e+08,\n",
      "        4.7167e+08, 3.9470e+08, 1.4000e+08, 8.8031e+06, 3.1584e+07, 1.3596e+06,\n",
      "        1.2809e+07, 2.0238e+08, 1.2107e+08, 4.7032e+07])\n"
     ]
    },
    {
     "data": {
      "text/plain": "MLP(\n  (sequential): Sequential(\n    (0): Linear(in_features=64, out_features=64, bias=True)\n  )\n  (ln_norm): LayerNorm((64,), eps=1e-05, elementwise_affine=True)\n)"
     },
     "execution_count": 1751,
     "metadata": {},
     "output_type": "execute_result"
    }
   ],
   "source": [
    "model.eval()\n",
    "xb, yb = get_batch('val')\n",
    "yb_mean_val = yb.mean(dim=1, keepdim=True)\n",
    "yb_std_dev = yb.std(dim=1, keepdim=True)\n",
    "logits, loss = model(xb, yb)\n",
    "print(f\"prediction loss: {loss}\")\n",
    "print(f\"prediction: {torch.round(logits[:1][0] * yb_std_dev[:1][0] + yb_mean_val[:1][0])}\")\n",
    "# print(f\"xb: {xb[:1][0]}\")\n",
    "print(f\"yb: {yb[:1][0]}\")\n",
    "model.train()"
   ],
   "metadata": {
    "collapsed": false,
    "ExecuteTime": {
     "end_time": "2024-03-08T08:44:28.801979Z",
     "start_time": "2024-03-08T08:44:28.793561Z"
    }
   },
   "id": "b07195ced320d281",
   "execution_count": 1751
  }
 ],
 "metadata": {
  "kernelspec": {
   "display_name": "Python 3",
   "language": "python",
   "name": "python3"
  },
  "language_info": {
   "codemirror_mode": {
    "name": "ipython",
    "version": 2
   },
   "file_extension": ".py",
   "mimetype": "text/x-python",
   "name": "python",
   "nbconvert_exporter": "python",
   "pygments_lexer": "ipython2",
   "version": "2.7.6"
  }
 },
 "nbformat": 4,
 "nbformat_minor": 5
}
