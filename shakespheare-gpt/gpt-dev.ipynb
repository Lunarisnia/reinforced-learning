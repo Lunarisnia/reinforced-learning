{
 "cells": [
  {
   "cell_type": "code",
   "execution_count": 74,
   "id": "initial_id",
   "metadata": {
    "collapsed": true,
    "ExecuteTime": {
     "end_time": "2024-02-29T17:38:20.436609400Z",
     "start_time": "2024-02-29T17:38:20.428211800Z"
    }
   },
   "outputs": [],
   "source": [
    "text = \"\"\n",
    "with open(\"./dataset/tinyshakespeare.txt\", \"r\", encoding=\"utf-8\") as f:\n",
    "    text = f.read()"
   ]
  },
  {
   "cell_type": "code",
   "outputs": [
    {
     "name": "stdout",
     "output_type": "stream",
     "text": [
      "Length of dataset: 1115389\n"
     ]
    }
   ],
   "source": [
    "print(f\"Length of dataset: {len(text)}\")"
   ],
   "metadata": {
    "collapsed": false,
    "ExecuteTime": {
     "end_time": "2024-02-29T17:38:20.440481Z",
     "start_time": "2024-02-29T17:38:20.436609400Z"
    }
   },
   "id": "e243b053b723c994",
   "execution_count": 75
  },
  {
   "cell_type": "code",
   "outputs": [],
   "source": [
    "# Create a set of all the unique characters from the dataset\n",
    "chars = sorted(list(set(text)))\n",
    "vocab_size = len(chars)\n",
    "\n",
    "# Create a mapping from characters to integers\n",
    "stoi = { ch:i for i, ch in enumerate(chars) } # This is really sexy\n",
    "itos = { i:ch for i, ch in enumerate(chars) }\n",
    "encode = lambda s: [stoi[ch] for ch in s] # encoder: takes a string and return a list of integers\n",
    "decode = lambda l: \"\".join([itos[ch] for ch in l]) # decoder: takes a list of int and return text"
   ],
   "metadata": {
    "collapsed": false,
    "ExecuteTime": {
     "end_time": "2024-02-29T17:38:20.466650800Z",
     "start_time": "2024-02-29T17:38:20.441480Z"
    }
   },
   "id": "fb9e8169bceb54e9",
   "execution_count": 76
  },
  {
   "cell_type": "markdown",
   "source": [
    "After this we make our tokenizer"
   ],
   "metadata": {
    "collapsed": false
   },
   "id": "d0bbcb5ca1b4d782"
  },
  {
   "cell_type": "code",
   "outputs": [],
   "source": [
    "import torch\n",
    "data = torch.tensor(encode(text), dtype=torch.long)"
   ],
   "metadata": {
    "collapsed": false,
    "ExecuteTime": {
     "end_time": "2024-02-29T17:38:20.573136400Z",
     "start_time": "2024-02-29T17:38:20.456482500Z"
    }
   },
   "id": "e6ac7e51f768573c",
   "execution_count": 77
  },
  {
   "cell_type": "code",
   "outputs": [],
   "source": [
    "# Split dataset\n",
    "n = int(0.9*len(data)) # first 90% will be for training\n",
    "train_data = data[:n]\n",
    "test_data = data[n:]\n",
    "\n",
    "block_size = 8"
   ],
   "metadata": {
    "collapsed": false,
    "ExecuteTime": {
     "end_time": "2024-02-29T17:38:20.579448300Z",
     "start_time": "2024-02-29T17:38:20.575135300Z"
    }
   },
   "id": "b2601cba1cf2036c",
   "execution_count": 78
  },
  {
   "cell_type": "code",
   "outputs": [],
   "source": [
    "x = train_data[:block_size]\n",
    "y = train_data[1:block_size+1]\n",
    "for i in range(block_size):\n",
    "    context = x[:i+1] # i+11 because we don't want 0 and range is exclusive\n",
    "    target = y[i]\n",
    "    # print(f\"When input is {context} the target: {target}\")"
   ],
   "metadata": {
    "collapsed": false,
    "ExecuteTime": {
     "end_time": "2024-02-29T17:38:20.582591Z",
     "start_time": "2024-02-29T17:38:20.579897200Z"
    }
   },
   "id": "daa21a06a37698f9",
   "execution_count": 79
  },
  {
   "cell_type": "code",
   "outputs": [
    {
     "name": "stdout",
     "output_type": "stream",
     "text": [
      "Inputs:\n",
      "torch.Size([4, 8])\n",
      "tensor([[59, 57,  1, 58, 56, 39, 47, 58],\n",
      "        [30, 10,  0, 15, 53, 51, 43,  6],\n",
      "        [34, 21, 26, 15, 17, 26, 32, 21],\n",
      "        [27, 10,  0, 32, 46, 53, 59,  1]])\n",
      "Outputs:\n",
      "torch.Size([4, 8])\n",
      "tensor([[57,  1, 58, 56, 39, 47, 58, 53],\n",
      "        [10,  0, 15, 53, 51, 43,  6,  1],\n",
      "        [21, 26, 15, 17, 26, 32, 21, 27],\n",
      "        [10,  0, 32, 46, 53, 59,  1, 42]])\n"
     ]
    }
   ],
   "source": [
    "torch.manual_seed(1337)\n",
    "batch_size = 4 # how many independent sequences will we process in parallel\n",
    "block_size = 8 # What is the maximum context length for predictions?\n",
    "\n",
    "def get_batch(split):\n",
    "    # generate a small batch of data of inputs x and targets y\n",
    "    data = train_data if split == \"train\" else test_data\n",
    "    random_offset = torch.randint(len(train_data) - block_size, (batch_size, ))\n",
    "    contexts = torch.stack([data[i:i+block_size] for i in random_offset])\n",
    "    targets = torch.stack([data[i+1:i+block_size+1] for i in random_offset])\n",
    "    return contexts, targets\n",
    "\n",
    "xb, yb = get_batch(\"train\")\n",
    "print(\"Inputs:\")\n",
    "print(xb.shape)\n",
    "print(xb)\n",
    "\n",
    "print(\"Outputs:\")\n",
    "print(yb.shape)\n",
    "print(yb)"
   ],
   "metadata": {
    "collapsed": false,
    "ExecuteTime": {
     "end_time": "2024-02-29T17:38:20.623583Z",
     "start_time": "2024-02-29T17:38:20.587590400Z"
    }
   },
   "id": "bc4789c56ce62fe7",
   "execution_count": 80
  },
  {
   "cell_type": "code",
   "outputs": [
    {
     "name": "stdout",
     "output_type": "stream",
     "text": [
      "torch.Size([1, 1, 65])\n",
      "torch.Size([1, 2, 65])\n",
      "torch.Size([1, 3, 65])\n",
      "torch.Size([1, 4, 65])\n",
      "torch.Size([1, 5, 65])\n",
      "torch.Size([1, 6, 65])\n",
      "torch.Size([1, 7, 65])\n",
      "torch.Size([1, 8, 65])\n",
      "torch.Size([1, 9, 65])\n",
      "torch.Size([1, 10, 65])\n",
      "torch.Size([1, 11, 65])\n",
      "torch.Size([1, 12, 65])\n",
      "torch.Size([1, 13, 65])\n",
      "torch.Size([1, 14, 65])\n",
      "torch.Size([1, 15, 65])\n",
      "torch.Size([1, 16, 65])\n",
      "torch.Size([1, 17, 65])\n",
      "torch.Size([1, 18, 65])\n",
      "torch.Size([1, 19, 65])\n",
      "torch.Size([1, 20, 65])\n",
      "torch.Size([1, 21, 65])\n",
      "torch.Size([1, 22, 65])\n",
      "torch.Size([1, 23, 65])\n",
      "torch.Size([1, 24, 65])\n",
      "torch.Size([1, 25, 65])\n",
      "torch.Size([1, 26, 65])\n",
      "torch.Size([1, 27, 65])\n",
      "torch.Size([1, 28, 65])\n",
      "torch.Size([1, 29, 65])\n",
      "torch.Size([1, 30, 65])\n",
      "torch.Size([1, 31, 65])\n",
      "torch.Size([1, 32, 65])\n",
      "torch.Size([1, 33, 65])\n",
      "torch.Size([1, 34, 65])\n",
      "torch.Size([1, 35, 65])\n",
      "torch.Size([1, 36, 65])\n",
      "torch.Size([1, 37, 65])\n",
      "torch.Size([1, 38, 65])\n",
      "torch.Size([1, 39, 65])\n",
      "torch.Size([1, 40, 65])\n",
      "torch.Size([1, 41, 65])\n",
      "torch.Size([1, 42, 65])\n",
      "torch.Size([1, 43, 65])\n",
      "torch.Size([1, 44, 65])\n",
      "torch.Size([1, 45, 65])\n",
      "torch.Size([1, 46, 65])\n",
      "torch.Size([1, 47, 65])\n",
      "torch.Size([1, 48, 65])\n",
      "torch.Size([1, 49, 65])\n",
      "torch.Size([1, 50, 65])\n",
      "torch.Size([1, 51, 65])\n",
      "torch.Size([1, 52, 65])\n",
      "torch.Size([1, 53, 65])\n",
      "torch.Size([1, 54, 65])\n",
      "torch.Size([1, 55, 65])\n",
      "torch.Size([1, 56, 65])\n",
      "torch.Size([1, 57, 65])\n",
      "torch.Size([1, 58, 65])\n",
      "torch.Size([1, 59, 65])\n",
      "torch.Size([1, 60, 65])\n",
      "torch.Size([1, 61, 65])\n",
      "torch.Size([1, 62, 65])\n",
      "torch.Size([1, 63, 65])\n",
      "torch.Size([1, 64, 65])\n",
      "torch.Size([1, 65, 65])\n",
      "torch.Size([1, 66, 65])\n",
      "torch.Size([1, 67, 65])\n",
      "torch.Size([1, 68, 65])\n",
      "torch.Size([1, 69, 65])\n",
      "torch.Size([1, 70, 65])\n",
      "torch.Size([1, 71, 65])\n",
      "torch.Size([1, 72, 65])\n",
      "torch.Size([1, 73, 65])\n",
      "torch.Size([1, 74, 65])\n",
      "torch.Size([1, 75, 65])\n",
      "torch.Size([1, 76, 65])\n",
      "torch.Size([1, 77, 65])\n",
      "torch.Size([1, 78, 65])\n",
      "torch.Size([1, 79, 65])\n",
      "torch.Size([1, 80, 65])\n",
      "torch.Size([1, 81, 65])\n",
      "torch.Size([1, 82, 65])\n",
      "torch.Size([1, 83, 65])\n",
      "torch.Size([1, 84, 65])\n",
      "torch.Size([1, 85, 65])\n",
      "torch.Size([1, 86, 65])\n",
      "torch.Size([1, 87, 65])\n",
      "torch.Size([1, 88, 65])\n",
      "torch.Size([1, 89, 65])\n",
      "torch.Size([1, 90, 65])\n",
      "torch.Size([1, 91, 65])\n",
      "torch.Size([1, 92, 65])\n",
      "torch.Size([1, 93, 65])\n",
      "torch.Size([1, 94, 65])\n",
      "torch.Size([1, 95, 65])\n",
      "torch.Size([1, 96, 65])\n",
      "torch.Size([1, 97, 65])\n",
      "torch.Size([1, 98, 65])\n",
      "torch.Size([1, 99, 65])\n",
      "torch.Size([1, 100, 65])\n",
      "\n",
      ";?vdHcpuSYHJ'YAgsSIGmft3 SK-sAwGu'jNALh'cPEP?cQ?fo'VqPaxPai,jq vR3AwEBtTBo:ElwbIojPEYZnjP$mltvy\n",
      ";Xdx\n"
     ]
    }
   ],
   "source": [
    "from torch import nn\n",
    "from torch.nn import functional as F\n",
    "\n",
    "class BigramLanguageModel(nn.Module):\n",
    "    def __init__(self, vocab_size):\n",
    "        super().__init__()\n",
    "        self.token_embedding_table = nn.Embedding(vocab_size, vocab_size)\n",
    "        \n",
    "    def forward(self, idx, targets=None):\n",
    "        # idx and targets are both (B, T) Tensor of integers\n",
    "        logits = self.token_embedding_table(idx) # (B, T, C)\n",
    "        \n",
    "        if targets is None:\n",
    "            loss = None\n",
    "        else:\n",
    "            B, T, C = logits.shape\n",
    "            logits = logits.view(B*T, C)\n",
    "            targets = targets.view(B*T)\n",
    "            loss = F.cross_entropy(logits, targets)\n",
    "\n",
    "        \n",
    "        return logits, loss\n",
    "    \n",
    "    def generate(self, idx, max_new_tokens):\n",
    "        # idx is (B, T) array of indices in the current context\n",
    "        for _ in range(max_new_tokens):\n",
    "            # get the predictions\n",
    "            logits, loss = self(idx)\n",
    "            # focus only on the last time step\n",
    "            print(logits.shape)\n",
    "            logits = logits[:, -1, :] # becomes (B, C)\n",
    "            # apply softmax to get probabilities\n",
    "            probs = F.softmax(logits, dim=-1) # (B, C)\n",
    "            # sample from the distribution\n",
    "            idx_next = torch.multinomial(probs, num_samples=1) # (B, 1)\n",
    "            # append sampled index to the running sequence\n",
    "            idx = torch.cat((idx, idx_next), dim=1) # (B, T+1)\n",
    "        return idx\n",
    "            \n",
    "    \n",
    "model = BigramLanguageModel(vocab_size)\n",
    "logits, loss = model(xb, yb)\n",
    "# print(logits.shape)\n",
    "# print(loss)\n",
    "\n",
    "print(decode(model.generate(torch.zeros((1,1), dtype=torch.long), max_new_tokens=100).numpy()[0]))"
   ],
   "metadata": {
    "collapsed": false,
    "ExecuteTime": {
     "end_time": "2024-02-29T18:04:47.545818Z",
     "start_time": "2024-02-29T18:04:47.527437100Z"
    }
   },
   "id": "6c0cc5954ff0cad1",
   "execution_count": 128
  },
  {
   "cell_type": "code",
   "outputs": [
    {
     "data": {
      "text/plain": "tensor([ 1,  3,  5,  7,  9, 11, 13, 15, 17])"
     },
     "execution_count": 89,
     "metadata": {},
     "output_type": "execute_result"
    }
   ],
   "source": [
    "a = torch.arange(18)\n",
    "a.view(3*3, 2)[:, -1]\n",
    "# print(a.view(4*8, 2))"
   ],
   "metadata": {
    "collapsed": false,
    "ExecuteTime": {
     "end_time": "2024-02-29T17:40:43.713947100Z",
     "start_time": "2024-02-29T17:40:43.684406300Z"
    }
   },
   "id": "529ecf714d4c72e4",
   "execution_count": 89
  }
 ],
 "metadata": {
  "kernelspec": {
   "display_name": "Python 3",
   "language": "python",
   "name": "python3"
  },
  "language_info": {
   "codemirror_mode": {
    "name": "ipython",
    "version": 2
   },
   "file_extension": ".py",
   "mimetype": "text/x-python",
   "name": "python",
   "nbconvert_exporter": "python",
   "pygments_lexer": "ipython2",
   "version": "2.7.6"
  }
 },
 "nbformat": 4,
 "nbformat_minor": 5
}
