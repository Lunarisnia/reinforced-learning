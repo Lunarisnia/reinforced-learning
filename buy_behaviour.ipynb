{
 "cells": [
  {
   "cell_type": "markdown",
   "source": [
    "Codex:\n",
    "0 : \"Home Page\"\n",
    "1 : \"Explore\"\n",
    "2 : \"Product A\"\n",
    "3 : \"Product B\"\n",
    "4 : \"Product C\"\n",
    "5 : \"Add Product\"\n",
    "6 : \"Close App\"\n",
    "7 : \"Buy\""
   ],
   "metadata": {
    "collapsed": false
   },
   "id": "7f4b05c1b6bb902b"
  },
  {
   "cell_type": "code",
   "outputs": [],
   "source": [
    "import torch\n",
    "import math\n",
    "import random\n",
    "from torch import nn\n",
    "from torch.nn import functional as F\n",
    "\n",
    "\n",
    "# torch.manual_seed(208)\n",
    "class VirtualShopper:\n",
    "    def __init__(self):\n",
    "        self.products = {0: 2, 1: 3, 2: 4}\n",
    "        self.product_scores = torch.tensor([0.85, 0.2, 0.1])\n",
    "        # self.product_scores = F.softmax(self.product_scores, dim=0)\n",
    "\n",
    "        # Make an environment where if the user has two or more Product C in their cart it will more likely buy\n",
    "        self.selected_products = torch.multinomial(self.product_scores, num_samples=3, replacement=True)\n",
    "        self.actions = [0, 1]\n",
    "        self.cart = []\n",
    "        for sp in self.selected_products:\n",
    "            self.actions.append(self.products[int(sp)])\n",
    "            adding_to_cart = 5 if random.randint(0, 1) == 1 else 1\n",
    "            self.actions.append(adding_to_cart)\n",
    "            if adding_to_cart == 5:\n",
    "                self.cart.append(self.products[int(sp)])\n",
    "\n",
    "        chance_of_buying = 0.\n",
    "        for item in self.cart:\n",
    "            if item == 4:\n",
    "                chance_of_buying += 3.33\n",
    "            if item == 3:\n",
    "                chance_of_buying += 1.\n",
    "            if item == 1:\n",
    "                chance_of_buying += 0.25\n",
    "\n",
    "        if chance_of_buying >= random.random() * 10:\n",
    "            self.actions.append(7)\n",
    "        else:\n",
    "            self.actions.append(6)\n",
    "\n",
    "    def get_actions(self):\n",
    "        return self.actions\n",
    "\n",
    "    def get_labels(self):\n",
    "        return self.actions[-1] == 7\n"
   ],
   "metadata": {
    "collapsed": false,
    "ExecuteTime": {
     "end_time": "2024-03-07T08:36:02.416445Z",
     "start_time": "2024-03-07T08:36:00.613415Z"
    }
   },
   "id": "fd62898aaf02d9c",
   "execution_count": 3
  },
  {
   "cell_type": "code",
   "outputs": [],
   "source": [
    "sample_size = 1_000\n",
    "shopper = [VirtualShopper().get_actions() for _ in range(sample_size)]\n",
    "shopper = torch.tensor(shopper)\n",
    "# print(f\"train_data: {shopper}\")\n",
    "# print(f\"train_labels: {(shopper[:, -1] == 7).view(10, 1)}\")\n",
    "\n",
    "# Split dataset\n",
    "split_percentage = int(0.9 * len(shopper))\n",
    "train_data = shopper[:split_percentage]\n",
    "val_data = shopper[split_percentage:]"
   ],
   "metadata": {
    "collapsed": false,
    "ExecuteTime": {
     "end_time": "2024-03-07T08:36:02.443976Z",
     "start_time": "2024-03-07T08:36:02.417436Z"
    }
   },
   "id": "861ec1924f989632",
   "execution_count": 4
  },
  {
   "cell_type": "code",
   "outputs": [
    {
     "name": "stdout",
     "output_type": "stream",
     "text": [
      "torch.Size([4, 8, 9])\n",
      "tensor([[[0, 1, 3, 1, 4, 1, 2, 5, 6],\n",
      "         [0, 1, 2, 5, 2, 5, 2, 1, 6],\n",
      "         [0, 1, 2, 1, 2, 5, 2, 5, 6],\n",
      "         [0, 1, 2, 5, 3, 1, 2, 1, 6],\n",
      "         [0, 1, 2, 1, 2, 1, 2, 1, 6],\n",
      "         [0, 1, 2, 5, 2, 5, 2, 5, 6],\n",
      "         [0, 1, 2, 1, 2, 1, 2, 5, 6],\n",
      "         [0, 1, 3, 5, 2, 5, 2, 1, 7]],\n",
      "\n",
      "        [[0, 1, 2, 1, 2, 1, 2, 1, 6],\n",
      "         [0, 1, 2, 5, 2, 1, 2, 5, 6],\n",
      "         [0, 1, 2, 1, 2, 5, 2, 5, 6],\n",
      "         [0, 1, 2, 1, 2, 5, 2, 1, 6],\n",
      "         [0, 1, 2, 5, 2, 1, 2, 5, 6],\n",
      "         [0, 1, 2, 1, 2, 5, 3, 5, 6],\n",
      "         [0, 1, 2, 1, 2, 5, 2, 1, 6],\n",
      "         [0, 1, 2, 1, 4, 5, 4, 5, 7]],\n",
      "\n",
      "        [[0, 1, 2, 1, 2, 1, 2, 1, 6],\n",
      "         [0, 1, 2, 1, 2, 1, 2, 1, 6],\n",
      "         [0, 1, 2, 5, 2, 5, 2, 5, 6],\n",
      "         [0, 1, 2, 1, 3, 1, 2, 1, 6],\n",
      "         [0, 1, 2, 5, 2, 1, 3, 1, 6],\n",
      "         [0, 1, 2, 5, 2, 5, 2, 5, 6],\n",
      "         [0, 1, 2, 5, 3, 1, 2, 5, 6],\n",
      "         [0, 1, 2, 5, 4, 1, 2, 5, 6]],\n",
      "\n",
      "        [[0, 1, 2, 1, 2, 1, 2, 5, 6],\n",
      "         [0, 1, 2, 5, 3, 1, 2, 1, 6],\n",
      "         [0, 1, 2, 1, 2, 5, 2, 1, 6],\n",
      "         [0, 1, 2, 1, 3, 5, 2, 5, 6],\n",
      "         [0, 1, 4, 1, 2, 5, 4, 5, 6],\n",
      "         [0, 1, 2, 5, 2, 5, 2, 1, 6],\n",
      "         [0, 1, 3, 1, 4, 1, 2, 1, 6],\n",
      "         [0, 1, 2, 1, 2, 5, 3, 5, 6]]])\n",
      "torch.Size([4, 8])\n",
      "tensor([[0., 0., 0., 0., 0., 0., 0., 1.],\n",
      "        [0., 0., 0., 0., 0., 0., 0., 1.],\n",
      "        [0., 0., 0., 0., 0., 0., 0., 0.],\n",
      "        [0., 0., 0., 0., 0., 0., 0., 0.]])\n"
     ]
    }
   ],
   "source": [
    "torch.manual_seed(28)\n",
    "context_length = 8\n",
    "batch_size = 4\n",
    "\n",
    "\n",
    "def get_batch(split):\n",
    "    data = train_data if split == 'train' else val_data\n",
    "    random_offsets = torch.randint(len(data) - context_length, (batch_size,))\n",
    "    xb = torch.stack([data[i:i + context_length] for i in random_offsets])\n",
    "    yb = torch.stack([data[i:i + context_length, -1] == 7 for i in random_offsets])\n",
    "    return xb, yb.float()\n",
    "\n",
    "\n",
    "xb, yb = get_batch('train')\n",
    "print(xb.shape)\n",
    "print(xb)\n",
    "\n",
    "print(yb.shape)\n",
    "print(yb)"
   ],
   "metadata": {
    "collapsed": false,
    "ExecuteTime": {
     "end_time": "2024-03-07T08:51:30.000454Z",
     "start_time": "2024-03-07T08:51:29.992429Z"
    }
   },
   "id": "1e2183951dbfdb58",
   "execution_count": 184
  },
  {
   "cell_type": "markdown",
   "source": [
    "This might be the closest one yet, try adding attention to this model see how it goes"
   ],
   "metadata": {
    "collapsed": false
   },
   "id": "cfa870a110c86c66"
  },
  {
   "cell_type": "code",
   "outputs": [],
   "source": [
    "n_embd = 32\n",
    "category = 1\n",
    "\n",
    "\n",
    "# TODO: Rewrite the whole thing to use an Embeddings follow the paper closely or repurpose this as the FFN\n",
    "class GPT(nn.Module):\n",
    "    def __init__(self):\n",
    "        super().__init__()\n",
    "\n",
    "        self.embedding_table = nn.Embedding(9, category)\n",
    "        self.linear = nn.Linear(9, category)\n",
    "\n",
    "    def forward(self, activities, labels=None):\n",
    "        logits = self.embedding_table(activities)\n",
    "        B, T, C, D = logits.shape\n",
    "        logits = logits.view(B * T, C * D)\n",
    "        logits = self.linear(logits)\n",
    "\n",
    "        if labels is None:\n",
    "            loss = None\n",
    "        else:\n",
    "            B, T = logits.shape\n",
    "            # print(B, T)\n",
    "            labels = labels.view(B * T, 1)  # B, T, 1\n",
    "            # print(labels.shape, '=====')\n",
    "\n",
    "            loss = F.binary_cross_entropy_with_logits(logits, labels)\n",
    "\n",
    "        return logits, loss\n",
    "\n",
    "\n",
    "model = GPT()\n",
    "logits, loss = model(xb, yb)\n",
    "# print(loss)"
   ],
   "metadata": {
    "collapsed": false,
    "ExecuteTime": {
     "end_time": "2024-03-07T08:55:07.148089Z",
     "start_time": "2024-03-07T08:55:07.142957Z"
    }
   },
   "id": "980a1a42431e552c",
   "execution_count": 394
  },
  {
   "cell_type": "code",
   "outputs": [
    {
     "name": "stdout",
     "output_type": "stream",
     "text": [
      "tensor(0.7905, grad_fn=<BinaryCrossEntropyWithLogitsBackward0>)\n"
     ]
    }
   ],
   "source": [
    "max_iteration = 5\n",
    "block_size = 8\n",
    "\n",
    "# Optimizer\n",
    "optimizer = torch.optim.AdamW(model.parameters(), lr=1e-4)\n",
    "\n",
    "for _ in range(max_iteration):\n",
    "    # Get Samples\n",
    "    actions, labels = get_batch('train')\n",
    "\n",
    "    # Evaluate the loss\n",
    "    logits, loss = model(actions, labels)\n",
    "    optimizer.zero_grad(set_to_none=True)\n",
    "    loss.backward()\n",
    "    optimizer.step()\n",
    "\n",
    "print(loss)"
   ],
   "metadata": {
    "collapsed": false,
    "ExecuteTime": {
     "end_time": "2024-03-07T08:55:10.778958Z",
     "start_time": "2024-03-07T08:55:10.769605Z"
    }
   },
   "id": "6784fa88ad10c0ae",
   "execution_count": 407
  },
  {
   "cell_type": "code",
   "outputs": [
    {
     "data": {
      "text/plain": "(tensor([[0.0939]], grad_fn=<AddmmBackward0>), None)"
     },
     "execution_count": 393,
     "metadata": {},
     "output_type": "execute_result"
    }
   ],
   "source": [
    "prediction = model(torch.tensor([[[0, 1, 4, 5, 3, 5, 3, 5, 7]]]))\n",
    "prediction"
   ],
   "metadata": {
    "collapsed": false,
    "ExecuteTime": {
     "end_time": "2024-03-07T08:55:05.675001Z",
     "start_time": "2024-03-07T08:55:05.670810Z"
    }
   },
   "id": "6d86270de299b7b0",
   "execution_count": 393
  },
  {
   "cell_type": "code",
   "outputs": [],
   "source": [
    "actions, labels = get_batch('train')"
   ],
   "metadata": {
    "collapsed": false,
    "ExecuteTime": {
     "end_time": "2024-03-06T09:43:10.403171Z",
     "start_time": "2024-03-06T09:43:10.399592Z"
    }
   },
   "id": "cc29ff91137d6203",
   "execution_count": 1677
  },
  {
   "cell_type": "code",
   "outputs": [
    {
     "data": {
      "text/plain": "torch.Size([1, 30, 16])"
     },
     "execution_count": 1773,
     "metadata": {},
     "output_type": "execute_result"
    }
   ],
   "source": [
    "# Version 4 Self-Attention\n",
    "import math\n",
    "\n",
    "torch.manual_seed(1337)\n",
    "B, T, C = 4, 4, 32\n",
    "# x = torch.randn(B, T, C)\n",
    "x = actions\n",
    "C = 8\n",
    "\n",
    "head_size = 16\n",
    "key = nn.Linear(C, head_size, bias=False)\n",
    "query = nn.Linear(C, head_size, bias=False)\n",
    "value = nn.Linear(C, head_size, bias=False)\n",
    "\n",
    "k = key(x)  # (B, T, 16)\n",
    "q = query(x)  # (B, T, 16)\n",
    "v = value(x)  # (B, T, 16)\n",
    "wei = q @ k.transpose(-2, -1) * (1 / math.sqrt(k.size(-1)))  # (B, T, 16) @ (B, 16, T) = (B, T, T)\n",
    "# tril = torch.tril(torch.ones((T, T)))\n",
    "# wei = wei.masked_fill(tril == 0, float('-inf'))\n",
    "wei = F.softmax(wei, dim=-1)\n",
    "out = wei @ v  # (B, T, T) @ (B, T, 16) = (B, T, 16)\n",
    "\n",
    "out.shape"
   ],
   "metadata": {
    "collapsed": false,
    "ExecuteTime": {
     "end_time": "2024-03-06T09:49:11.168727Z",
     "start_time": "2024-03-06T09:49:11.160997Z"
    }
   },
   "id": "d3163e784ba88269",
   "execution_count": 1773
  }
 ],
 "metadata": {
  "kernelspec": {
   "display_name": "Python 3",
   "language": "python",
   "name": "python3"
  },
  "language_info": {
   "codemirror_mode": {
    "name": "ipython",
    "version": 2
   },
   "file_extension": ".py",
   "mimetype": "text/x-python",
   "name": "python",
   "nbconvert_exporter": "python",
   "pygments_lexer": "ipython2",
   "version": "2.7.6"
  }
 },
 "nbformat": 4,
 "nbformat_minor": 5
}
